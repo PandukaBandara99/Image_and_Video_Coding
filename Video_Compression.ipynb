{
  "cells": [
    {
      "cell_type": "markdown",
      "metadata": {
        "id": "x9cBP18l77Uu"
      },
      "source": [
        "E/19/039 <br>\n",
        "N.P.M.P.Bandara <br>\n"
      ]
    },
    {
      "cell_type": "markdown",
      "source": [
        "Notebook With Outputs : https://colab.research.google.com/drive/1PwodgR__AOVB3AMuKRgN9DJx58Cno-AP?usp=sharing"
      ],
      "metadata": {
        "id": "GjRtWcL6bzu9"
      }
    },
    {
      "cell_type": "markdown",
      "metadata": {
        "id": "0zEBHtzz-hhj"
      },
      "source": [
        "# Imports"
      ]
    },
    {
      "cell_type": "code",
      "execution_count": null,
      "metadata": {
        "id": "huTgbaxR7vry"
      },
      "outputs": [],
      "source": [
        "import os\n",
        "import sys\n",
        "import time\n",
        "import numpy as np\n",
        "import cv2\n",
        "import matplotlib.pyplot as plt\n",
        "from IPython.display import display, HTML"
      ]
    },
    {
      "cell_type": "code",
      "execution_count": null,
      "metadata": {
        "id": "oe8vSxve-jmF"
      },
      "outputs": [],
      "source": [
        "%pip install ffmpeg-python\n",
        "import ffmpeg"
      ]
    },
    {
      "cell_type": "markdown",
      "metadata": {
        "id": "JRLtk82d--yx"
      },
      "source": [
        "# Task 1 :Generating H.264 bit stream"
      ]
    },
    {
      "cell_type": "code",
      "execution_count": null,
      "metadata": {
        "id": "-ws1VhCqLOiW"
      },
      "outputs": [],
      "source": [
        "import ffmpeg\n",
        "\n",
        "# Define input and output video paths\n",
        "input_video_path = \"/content/Switzerland.mp4\"\n",
        "output_video_path = \"/content/Switzerland_Output.h264\"\n",
        "\n",
        "# Set encoding parameters\n",
        "bitrate = 2000\n",
        "crf = 23\n",
        "gop = 9\n",
        "b_frames = 3\n",
        "\n",
        "# Create an FFmpeg input stream\n",
        "input_stream = ffmpeg.input(input_video_path)\n",
        "\n",
        "# Set the output codec to H.264 with the specified parameters\n",
        "output_stream = ffmpeg.output(\n",
        "    input_stream,\n",
        "    output_video_path,\n",
        "    pix_fmt='yuv420p',\n",
        "    vcodec='libx264',\n",
        "    bitrate=bitrate,\n",
        "    crf=crf,\n",
        "    g=gop,\n",
        "    bf=b_frames\n",
        ")\n",
        "\n",
        "# Run the FFmpeg command\n",
        "ffmpeg.run(output_stream)\n"
      ]
    },
    {
      "cell_type": "code",
      "execution_count": null,
      "metadata": {
        "id": "rC0TWVGKLoRb"
      },
      "outputs": [],
      "source": [
        "import ffmpeg\n",
        "\n",
        "# Define input and output file paths\n",
        "input_path = \"/content/Switzerland_Output.h264\"\n",
        "output_video_path_mp4 = \"/content/Switzerland_Output.mp4\"\n",
        "\n",
        "# Create an FFmpeg decoder object\n",
        "decoder = ffmpeg.input(input_path)\n",
        "\n",
        "# Define output format and codec\n",
        "output_stream = decoder.output(\n",
        "    output_video_path_mp4,\n",
        "    pix_fmt=\"yuv420p\",\n",
        "    vcodec=\"libx264\"\n",
        ")\n",
        "\n",
        "# Print the generated FFmpeg command (for debugging)\n",
        "print(\"FFmpeg command:\", \" \".join(ffmpeg.compile(output_stream)))\n",
        "\n",
        "# Run the decoding process\n",
        "out, err = ffmpeg.run(output_stream, capture_stdout=True, capture_stderr=True)\n",
        "\n",
        "# Print errors if any\n",
        "if err:\n",
        "    print(\"FFmpeg Error:\", err.decode(\"utf-8\"))\n"
      ]
    },
    {
      "cell_type": "code",
      "execution_count": null,
      "metadata": {
        "id": "i8vxgKM0Hojo"
      },
      "outputs": [],
      "source": [
        "frame_height, frame_width = 1080, 1920\n",
        "frame_size = frame_width * frame_height * 3"
      ]
    },
    {
      "cell_type": "markdown",
      "metadata": {
        "id": "idiIn1nVMMrG"
      },
      "source": [
        "## Extract I Frames"
      ]
    },
    {
      "cell_type": "code",
      "execution_count": null,
      "metadata": {
        "id": "aRgezd4BONsp"
      },
      "outputs": [],
      "source": [
        "# Ensure the output directory exists\n",
        "os.makedirs(output_frames_folder, exist_ok=True)\n",
        "\n",
        "# FFmpeg command to extract only I-frames as images\n",
        "ffmpeg.input(output_video_path_mp4).output(\n",
        "    os.path.join(output_frames_folder, \"frame_%04d.png\"),\n",
        "    vf=\"select='eq(pict_type,PICT_TYPE_I)'\",  # Select only I-frames\n",
        "    vsync=\"vfr\"\n",
        ").run()\n",
        "\n",
        "# Get list of extracted I-frames\n",
        "frame_files = sorted(os.listdir(output_frames_folder))\n",
        "\n",
        "# Plot the first 5 I-frames\n",
        "num_frames_to_plot = min(5, len(frame_files))\n",
        "fig, axes = plt.subplots(1, num_frames_to_plot, figsize=(15, 5))\n",
        "\n",
        "for i, frame_file in enumerate(frame_files[:num_frames_to_plot]):\n",
        "    frame_path = os.path.join(output_frames_folder, frame_file)\n",
        "    img = cv2.imread(frame_path)\n",
        "    img = cv2.cvtColor(img, cv2.COLOR_BGR2RGB)  # Convert BGR to RGB for correct display\n",
        "\n",
        "    axes[i].imshow(img)\n",
        "    axes[i].axis(\"off\")\n",
        "    axes[i].set_title(f\"I-Frame {i+1}\")\n",
        "\n",
        "plt.show()"
      ]
    },
    {
      "cell_type": "markdown",
      "metadata": {
        "id": "VlRRgwHPP-Os"
      },
      "source": [
        "## Extract B Frames"
      ]
    },
    {
      "cell_type": "code",
      "execution_count": null,
      "metadata": {
        "id": "8lDx9qNXQZjZ"
      },
      "outputs": [],
      "source": [
        "# Define input video path and output folder for B-frames\n",
        "output_frames_folder = \"/content/B_frames\"\n",
        "\n",
        "# Ensure the output directory exists\n",
        "os.makedirs(output_frames_folder, exist_ok=True)\n",
        "\n",
        "# FFmpeg command to extract only B-frames as images\n",
        "ffmpeg.input(output_video_path_mp4).output(\n",
        "    os.path.join(output_frames_folder, \"frame_%04d.png\"),\n",
        "    vf=\"select='eq(pict_type,PICT_TYPE_B)'\",  # Select only B-frames\n",
        "    vsync=\"vfr\"\n",
        ").run()\n",
        "\n",
        "# Get list of extracted B-frames\n",
        "frame_files = sorted(os.listdir(output_frames_folder))\n",
        "\n",
        "# Plot the first 5 B-frames\n",
        "num_frames_to_plot = min(5, len(frame_files))\n",
        "\n",
        "if num_frames_to_plot == 0:\n",
        "    print(\"No B-frames were found in the video.\")\n",
        "else:\n",
        "    fig, axes = plt.subplots(1, num_frames_to_plot, figsize=(15, 5))\n",
        "\n",
        "    for i, frame_file in enumerate(frame_files[:num_frames_to_plot]):\n",
        "        frame_path = os.path.join(output_frames_folder, frame_file)\n",
        "        img = cv2.imread(frame_path)\n",
        "        img = cv2.cvtColor(img, cv2.COLOR_BGR2RGB)  # Convert BGR to RGB for correct display\n",
        "\n",
        "        axes[i].imshow(img)\n",
        "        axes[i].axis(\"off\")\n",
        "        axes[i].set_title(f\"B-Frame {i+1}\")\n",
        "\n",
        "    plt.show()\n"
      ]
    },
    {
      "cell_type": "markdown",
      "metadata": {
        "id": "yRMtFiC-RmSS"
      },
      "source": [
        "## Extract P frames"
      ]
    },
    {
      "cell_type": "code",
      "execution_count": null,
      "metadata": {
        "id": "iyxHedo_Rl4h"
      },
      "outputs": [],
      "source": [
        "# Run FFmpeg command to extract raw P-frames as images (in memory)\n",
        "process = (\n",
        "    ffmpeg.input(output_video_path_mp4)\n",
        "    .filter(\"select\", \"eq(pict_type,PICT_TYPE_P)\")  # Select only P-frames\n",
        "    .output(\"pipe:\", format=\"rawvideo\", pix_fmt=\"rgb24\")\n",
        "    .run(capture_stdout=True, capture_stderr=True)\n",
        ")\n",
        "\n",
        "# Extract raw pixel data and determine frame size\n",
        "probe = ffmpeg.probe(output_video_path_mp4, select_streams=\"v\")\n",
        "width = int(probe[\"streams\"][0][\"width\"])\n",
        "height = int(probe[\"streams\"][0][\"height\"])\n",
        "frame_size = width * height * 3\n",
        "\n",
        "# Convert raw frame data to NumPy images\n",
        "raw_frames = process[0]\n",
        "frames = [np.frombuffer(raw_frames[i * frame_size : (i + 1) * frame_size], np.uint8).reshape((height, width, 3))\n",
        "          for i in range(len(raw_frames) // frame_size)]\n",
        "\n",
        "# Plot the first 5 P-frames\n",
        "num_frames_to_plot = min(5, len(frames))\n",
        "\n",
        "if num_frames_to_plot == 0:\n",
        "    print(\"No P-frames were found in the video.\")\n",
        "else:\n",
        "    fig, axes = plt.subplots(1, num_frames_to_plot, figsize=(15, 5))\n",
        "\n",
        "    for i, frame in enumerate(frames[:num_frames_to_plot]):\n",
        "        axes[i].imshow(frame)\n",
        "        axes[i].axis(\"off\")\n",
        "        axes[i].set_title(f\"P-Frame {i+1}\")\n",
        "\n",
        "    plt.show()\n"
      ]
    },
    {
      "cell_type": "markdown",
      "metadata": {
        "id": "cgVdMUOsR31p"
      },
      "source": [
        "# View the decoded frames"
      ]
    },
    {
      "cell_type": "code",
      "execution_count": null,
      "metadata": {
        "colab": {
          "background_save": true
        },
        "id": "JIQsm7BjSJS_"
      },
      "outputs": [],
      "source": [
        "from moviepy.editor import VideoFileClip\n",
        "from IPython.display import display, Video\n",
        "\n",
        "# Load the video\n",
        "clip = VideoFileClip(\"/content/Switzerland_Output.mp4\")\n",
        "\n",
        "# Display the video in the notebook\n",
        "display(Video(\"/content/Switzerland_Output.mp4\", embed=True))\n"
      ]
    },
    {
      "cell_type": "markdown",
      "metadata": {
        "id": "Y5WbzXqJSlwl"
      },
      "source": [
        "# Task 2: Adjusting the Quality of the decoded output"
      ]
    },
    {
      "cell_type": "code",
      "execution_count": null,
      "metadata": {
        "id": "-2r9DMy5SpSQ"
      },
      "outputs": [],
      "source": [
        "def encode_decode_video(input_video_path, bitrate, crf, gop, b_frames):\n",
        "\n",
        "    # Generate file names for the output video\n",
        "    input_file_name = os.path.basename(input_video_path)\n",
        "    file_name_without_extension = os.path.splitext(input_file_name)[0]\n",
        "\n",
        "    # Create output paths for .h264 (encoded) and .mp4 (decoded)\n",
        "    output_h264_path = f\"/content/{file_name_without_extension}_encoded_{bitrate}_{crf}_{gop}_{b_frames}.h264\"\n",
        "    output_mp4_path = f\"/content/{file_name_without_extension}_decoded_{bitrate}_{crf}_{gop}_{b_frames}.mp4\"\n",
        "\n",
        "    # Encoding to .h264\n",
        "    ffmpeg.input(input_video_path).output(output_h264_path, vcodec='libx264', bitrate=bitrate, crf=crf, g=gop, bf=b_frames, pix_fmt='yuv420p').run()\n",
        "\n",
        "    # Decoding from .h264 to .mp4\n",
        "    ffmpeg.input(output_h264_path).output(output_mp4_path, vcodec='libx264', pix_fmt='yuv420p').run()\n",
        "\n",
        "    # Print the output file paths\n",
        "    print(f\"Encoded video saved to: {output_h264_path}\")\n",
        "    print(f\"Decoded video saved to: {output_mp4_path}\")\n",
        "\n",
        "    return output_h264_path, output_mp4_path"
      ]
    },
    {
      "cell_type": "markdown",
      "source": [
        "##  [ Bit rate  = 1000 , CRF = 23 ]"
      ],
      "metadata": {
        "id": "eHS7upJ5T7KG"
      }
    },
    {
      "cell_type": "code",
      "source": [
        "output_h264_path, output_mp4_path = encoded_path, decoded_path = encode_decode_video(input_video_path, 1000, 23, 9, 3)\n",
        "output_mp4_path"
      ],
      "metadata": {
        "id": "nUdWk0VuT6qt"
      },
      "execution_count": null,
      "outputs": []
    },
    {
      "cell_type": "code",
      "source": [
        "# Load the video\n",
        "clip = VideoFileClip(output_mp4_path)\n",
        "\n",
        "# Display the video in the notebook\n",
        "display(Video(output_mp4_path, embed=True))"
      ],
      "metadata": {
        "id": "xuzm2ZHmVDEA"
      },
      "execution_count": null,
      "outputs": []
    },
    {
      "cell_type": "markdown",
      "source": [
        "##  [ Bit rate  = 1000 , CRF = 51 ]"
      ],
      "metadata": {
        "id": "U-RRArl5V4IH"
      }
    },
    {
      "cell_type": "markdown",
      "source": [
        "Max CRF is used"
      ],
      "metadata": {
        "id": "25TmTvy9X2VV"
      }
    },
    {
      "cell_type": "code",
      "source": [
        "output_h264_path, output_mp4_path = encoded_path, decoded_path = encode_decode_video(input_video_path, 1000, 51, 9, 3)\n",
        "output_mp4_path"
      ],
      "metadata": {
        "id": "3n8m_hVtV9Wq"
      },
      "execution_count": null,
      "outputs": []
    },
    {
      "cell_type": "code",
      "source": [
        "# Load the video\n",
        "clip = VideoFileClip(output_mp4_path)\n",
        "\n",
        "# Display the video in the notebook\n",
        "display(Video(output_mp4_path, embed=True))"
      ],
      "metadata": {
        "id": "t-Av3JhjV_Rz"
      },
      "execution_count": null,
      "outputs": []
    },
    {
      "cell_type": "markdown",
      "source": [
        "##  [ Bit rate  = 2500 , CRF = 23 ]"
      ],
      "metadata": {
        "id": "ZIAvaPoWVZIE"
      }
    },
    {
      "cell_type": "code",
      "source": [
        "output_h264_path, output_mp4_path = encoded_path, decoded_path = encode_decode_video(input_video_path, 2500, 23, 9, 3)\n",
        "output_mp4_path"
      ],
      "metadata": {
        "id": "CqBdCRXfVj26"
      },
      "execution_count": null,
      "outputs": []
    },
    {
      "cell_type": "code",
      "source": [
        "# Load the video\n",
        "clip = VideoFileClip(output_mp4_path)\n",
        "\n",
        "# Display the video in the notebook\n",
        "display(Video(output_mp4_path, embed=True))"
      ],
      "metadata": {
        "id": "ZUgaepJoVo4S"
      },
      "execution_count": null,
      "outputs": []
    },
    {
      "cell_type": "markdown",
      "source": [
        "##  [ Bit rate  = 4000 , CRF = 23 ]"
      ],
      "metadata": {
        "id": "_kijTDdMVeEi"
      }
    },
    {
      "cell_type": "code",
      "source": [
        "output_h264_path, output_mp4_path = encoded_path, decoded_path = encode_decode_video(input_video_path, 4000, 23, 9, 3)\n",
        "output_mp4_path"
      ],
      "metadata": {
        "id": "u8zfscaIVyNd"
      },
      "execution_count": null,
      "outputs": []
    },
    {
      "cell_type": "code",
      "source": [
        "# Load the video\n",
        "clip = VideoFileClip(output_mp4_path)\n",
        "\n",
        "# Display the video in the notebook\n",
        "display(Video(output_mp4_path, embed=True))"
      ],
      "metadata": {
        "id": "PYFCunOfVzY-"
      },
      "execution_count": null,
      "outputs": []
    },
    {
      "cell_type": "markdown",
      "source": [
        "## Observations"
      ],
      "metadata": {
        "id": "ZqHz_XglXXQq"
      }
    },
    {
      "cell_type": "markdown",
      "source": [
        "When the bitrate is decreased, the video file becomes smaller, but the quality also drops. If the CRF value increased, the quality decreases and the file size reduces further. On the other hand, lowering the CRF improves quality but increases the file size. So, adjusting both controls how big the file is and how good the video looks."
      ],
      "metadata": {
        "id": "hoBDDZR0XY4N"
      }
    },
    {
      "cell_type": "markdown",
      "source": [
        "# Frame drop"
      ],
      "metadata": {
        "id": "UPb0rmPjWDIy"
      }
    },
    {
      "cell_type": "markdown",
      "source": [
        "This code iterates through the bitstream byte-by-byte, searching for NAL unit start codes. It checks the drop rate and optionally the NAL unit type to determine if the unit should be dropped. If dropped, the corresponding bytes are skipped, and the remaining bytes are copied to the modified bitstream.\n",
        "\n",
        "Remember to adjust the drop rate, targeted NAL unit types, and file paths as needed. This is a basic example, and further customization may be required depending on your specific needs and H.264 bitstream format."
      ],
      "metadata": {
        "id": "UgALxDvuWOFQ"
      }
    },
    {
      "cell_type": "code",
      "source": [
        "input = output_video_path\n",
        "output = \"/content/output_dropV2.h264\"\n",
        "output_mp4 = \"/content/output_dropV2.mp4\""
      ],
      "metadata": {
        "id": "l_Z2dZhRWRe2"
      },
      "execution_count": null,
      "outputs": []
    },
    {
      "cell_type": "code",
      "source": [
        "import random\n",
        "\n",
        "def drop_nal_units(bitstream, drop_rate, nal_unit_types_to_drop=None):\n",
        "  \"\"\"\n",
        "  Simulates NAL unit drop in an H.264 bitstream.\n",
        "\n",
        "  Args:\n",
        "    bitstream: Bytes object containing the H.264 bitstream.\n",
        "    drop_rate: Float between 0 and 1, representing the probability of dropping a NAL unit.\n",
        "    nal_unit_types_to_drop: Optional list of NAL unit types (integers) to target for dropping.\n",
        "\n",
        "  Returns:\n",
        "    Bytes object containing the modified bitstream with dropped NAL units.\n",
        "  \"\"\"\n",
        "\n",
        "  dropped_bytes = 0\n",
        "  modified_bitstream = bytearray()\n",
        "\n",
        "  # Iterate over the bitstream byte by byte, searching for NAL unit start codes (0x00 00 01)\n",
        "  for i in range(0, len(bitstream) - 3):\n",
        "    if bitstream[i:i+3] == b'\\x00\\x00\\x01':\n",
        "      # Extract NAL unit type from the next byte\n",
        "      nal_unit_type = bitstream[i+3]\n",
        "      print (nal_unit_type, '\\n')\n",
        "\n",
        "      # Check if the unit should be dropped based on drop rate and type (if specified)\n",
        "      if random.random() < drop_rate and (not nal_unit_types_to_drop or nal_unit_type in nal_unit_types_to_drop):\n",
        "        dropped_bytes += len(bitstream[i:i+4])\n",
        "        continue\n",
        "\n",
        "      # Copy the NAL unit to the modified bitstream\n",
        "      modified_bitstream.extend(bitstream[i:])\n",
        "      break\n",
        "\n",
        "  # Append the remaining bytes\n",
        "  modified_bitstream.extend(bitstream[i+4:])\n",
        "\n",
        "  print(f\"Dropped {dropped_bytes} bytes, resulting in {len(modified_bitstream)} bytes remaining.\")\n",
        "  return modified_bitstream"
      ],
      "metadata": {
        "id": "7p1J08KiWdcf"
      },
      "execution_count": null,
      "outputs": []
    },
    {
      "cell_type": "code",
      "source": [
        "# Example usage\n",
        "bitstream = open(input, \"rb\").read()\n",
        "modified_bitstream = drop_nal_units(bitstream, 0.1, [5, 7])  # Drop 10% of NAL units with types 5 and 7\n",
        "open(output, \"wb\").write(modified_bitstream)"
      ],
      "metadata": {
        "id": "EI03OL1aWhb1"
      },
      "execution_count": null,
      "outputs": []
    },
    {
      "cell_type": "code",
      "source": [
        "# Create an FFmpeg input object from the input file\n",
        "input_video = ffmpeg.input(output)\n",
        "\n",
        "# Define the output file path\n",
        "output_path = \"/content/outputV3_NOerror.mp4\"\n",
        "\n",
        "# Set the output format and codec\n",
        "output_video = input_video.output(output_path, pix_fmt=\"yuv420p\", vcodec=\"libx264\")\n",
        "\n",
        "# Run the encoding process\n",
        "output_video.run()\n"
      ],
      "metadata": {
        "id": "Z-x5Hb7xWkBZ"
      },
      "execution_count": null,
      "outputs": []
    },
    {
      "cell_type": "markdown",
      "source": [
        "# When some NAL Unit types are dropped, Decoder fails."
      ],
      "metadata": {
        "id": "M0FjmxdTWnYV"
      }
    },
    {
      "cell_type": "code",
      "source": [
        "# Example usage\n",
        "bitstream = open(input, \"rb\").read()\n",
        "modified_bitstream = drop_nal_units(bitstream, 0.5, [103, 104, 105])  # Drop 10% of NAL units with types 5 and 7\n",
        "open(output, \"wb\").write(modified_bitstream)"
      ],
      "metadata": {
        "id": "0E2AwSzKWr-h"
      },
      "execution_count": null,
      "outputs": []
    },
    {
      "cell_type": "code",
      "source": [
        "import ffmpeg\n",
        "\n",
        "# # Define the input file path\n",
        "# input_path = dropped_frames\n",
        "\n",
        "# Create an FFmpeg decoder object\n",
        "decoder_N = ffmpeg.input(output)\n",
        "\n",
        "# Define output format (optional)\n",
        "decoder_N_N = decoder_N.output(  \"/content/outputV3_error.mp4\", pix_fmt=\"yuv420p\", vcodec=\"libx264\" )\n",
        "\n",
        "# Run the decoding process\n",
        "decoder_N_N.run()"
      ],
      "metadata": {
        "id": "FlWhJAsmWttj"
      },
      "execution_count": null,
      "outputs": []
    },
    {
      "cell_type": "markdown",
      "source": [
        "# Task 3 : Drop only B and P frames at a rate of 20%."
      ],
      "metadata": {
        "id": "y2zLjBJzWqyK"
      }
    },
    {
      "cell_type": "code",
      "source": [
        "if os.path.exists(os.path.join(main_dir,\"output_dropV2.h264\")):\n",
        "    os.remove(\n",
        "        os.path.join(main_dir,\"output_dropV2.h264\")\n",
        "    )\n",
        "\n"
      ],
      "metadata": {
        "id": "8z5D47zjXOYf"
      },
      "execution_count": null,
      "outputs": []
    },
    {
      "cell_type": "code",
      "source": [
        "def P_and_B_Frames(n):\n",
        "    if n % 9 == 0:\n",
        "        return False\n",
        "    return True\n",
        "\n",
        "def drop_nal_units_P_and_B(bitstream, drop_rate):\n",
        "    dropped_bytes = 0\n",
        "    modified_bitstream = bytearray()\n",
        "    nal_types_to_drop = [1, 2]  # Assuming NAL unit types 1 and 2 correspond to P and B frames\n",
        "\n",
        "    i = 0\n",
        "    while i < len(bitstream) - 3:\n",
        "        if bitstream[i:i+3] == b'\\x00\\x00\\x01':\n",
        "            nal_unit_type = bitstream[i+3] & 0x1F  # Extract NAL unit type\n",
        "            if nal_unit_type in nal_types_to_drop:\n",
        "                if random.random() < drop_rate:\n",
        "                    i += 4\n",
        "                    dropped_bytes += 4\n",
        "                    continue\n",
        "            modified_bitstream.extend(bitstream[i:i+4])\n",
        "            i += 4\n",
        "        else:\n",
        "            modified_bitstream.append(bitstream[i])\n",
        "            i += 1\n",
        "    modified_bitstream.extend(bitstream[i:])\n",
        "    print(f\"Dropped {dropped_bytes} bytes, resulting in {len(modified_bitstream)} bytes remaining.\")\n",
        "    return modified_bitstream"
      ],
      "metadata": {
        "id": "_l2lW9A8XPu_"
      },
      "execution_count": null,
      "outputs": []
    },
    {
      "cell_type": "code",
      "source": [
        "output_BP_Dropped =\"/content/output_BP_Dropped.h264\"\n",
        "\n",
        "bitstream = open(input, \"rb\").read()\n",
        "modified_bitstream = drop_nal_units_P_and_B(bitstream, 0.20)\n",
        "open(output, \"wb\").write(modified_bitstream)"
      ],
      "metadata": {
        "id": "1WHqkXTSXRKc"
      },
      "execution_count": null,
      "outputs": []
    },
    {
      "cell_type": "code",
      "source": [
        "decoder_N = ffmpeg.input(output)\n",
        "\n",
        "# Define output format (optional)\n",
        "decoder_N = decoder_N.output(\"/content/output_BP_Dropped.mp4\", pix_fmt=\"yuv420p\", vcodec=\"libx264\" )\n",
        "\n",
        "# Run the decoding process\n",
        "try:\n",
        "    decoder_N.run()\n",
        "except ffmpeg.Error as e:\n",
        "    print(\"FFmpeg Error:\", e.stderr.decode())"
      ],
      "metadata": {
        "id": "gDtRVtSGXSf3"
      },
      "execution_count": null,
      "outputs": []
    },
    {
      "cell_type": "code",
      "source": [
        "clip = VideoFileClip(\"output_BP_Dropped.mp4\")\n",
        "clip.display_in_notebook(\n",
        "    frame_width=400\n",
        ")"
      ],
      "metadata": {
        "id": "zxBpb4byXUI0"
      },
      "execution_count": null,
      "outputs": []
    }
  ],
  "metadata": {
    "colab": {
      "provenance": []
    },
    "kernelspec": {
      "display_name": "Python 3",
      "name": "python3"
    },
    "language_info": {
      "name": "python"
    }
  },
  "nbformat": 4,
  "nbformat_minor": 0
}
